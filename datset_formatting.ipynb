{
  "nbformat": 4,
  "nbformat_minor": 0,
  "metadata": {
    "colab": {
      "provenance": []
    },
    "kernelspec": {
      "name": "python3",
      "display_name": "Python 3"
    },
    "language_info": {
      "name": "python"
    }
  },
  "cells": [
    {
      "cell_type": "code",
      "execution_count": null,
      "metadata": {
        "id": "ttHPO2LiWa-F"
      },
      "outputs": [],
      "source": [
        "#Works Perfactly! Need some furnishing\n",
        "#punctuation er age space thakle kisui detect hoi na\n",
        "import re\n",
        "\n",
        "def detect_bengali_punctuation(file_path):\n",
        "    word_punctuation_pairs = []\n",
        "    with open(file_path, 'r', encoding='utf-8') as file:\n",
        "        text = file.read()\n",
        "\n",
        "    # Define regular expression pattern to match Bengali words and punctuation\n",
        "    pattern = re.compile(r'([\\u0980-\\u09FFa-zA-Z]+(?:-[\\u0980-\\u09FFa-zA-Z]+)*)([৷,:;!?\\।]*)')\n",
        "\n",
        "    # Find all matches of Bengali words and punctuation in the text\n",
        "    matches = pattern.finditer(text)\n",
        "    bengali_punctuation_names = {\n",
        "      '৷': 'PERIOD',\n",
        "      ',': 'COMMA',\n",
        "      ':': 'COMMA',\n",
        "      ';': 'PERIOD',\n",
        "      '!': 'PERIOD',\n",
        "      '?': 'QUESTION',\n",
        "      '।': 'PERIOD'\n",
        "    }\n",
        "    comma = 0\n",
        "    period = 0\n",
        "    ques = 0\n",
        "    others=0\n",
        "    for match in matches:\n",
        "        word = match.group(1)\n",
        "        punctuation = match.group(2)\n",
        "        # print(\"word: \", word);\n",
        "        if punctuation:\n",
        "            # print(\"detected punctuation: \", punctuation);\n",
        "            p = bengali_punctuation_names.get(punctuation, 'O')\n",
        "            word_punctuation_pairs.append((word, \"\\t\" + p))\n",
        "            # if punctuation == ':':\n",
        "            #   print(\"colon detected \", \"word\")\n",
        "            if punctuation == ',':\n",
        "              comma+=1\n",
        "            elif punctuation == '।':\n",
        "              period+=1\n",
        "            elif punctuation == '?':\n",
        "              ques+=1\n",
        "        else:\n",
        "            others+=1\n",
        "            word_punctuation_pairs.append((word, '\\tO'))\n",
        "    print(comma, period, ques, others)\n",
        "    return word_punctuation_pairs\n",
        "\n",
        "# Function to write word and punctuation pairs to an output file\n",
        "def write_output(output_file, word_punctuation_pairs):\n",
        "    with open(output_file, 'w', encoding='utf-8') as file:\n",
        "        for word, punctuation in word_punctuation_pairs:\n",
        "            file.write(f\"{word} {punctuation}\\n\")\n",
        "\n",
        "# Example usage:\n",
        "input_file_path = 'Train_2'\n",
        "output_file_path = 'train_book'\n",
        "\n",
        "word_punctuation_pairs = detect_bengali_punctuation(input_file_path)\n",
        "write_output(output_file_path, word_punctuation_pairs)"
      ]
    }
  ]
}